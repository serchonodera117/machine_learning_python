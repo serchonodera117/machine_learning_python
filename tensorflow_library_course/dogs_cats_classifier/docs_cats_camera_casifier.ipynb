{
  "nbformat": 4,
  "nbformat_minor": 0,
  "metadata": {
    "colab": {
      "provenance": []
    },
    "kernelspec": {
      "name": "python3",
      "display_name": "Python 3"
    },
    "language_info": {
      "name": "python"
    }
  },
  "cells": [
    {
      "cell_type": "code",
      "execution_count": 2,
      "metadata": {
        "id": "mGnOjLD3ZTHv"
      },
      "outputs": [],
      "source": [
        "import tensorflow as tf\n",
        "from tensorflow.keras.preprocessing.image import ImageDataGenerator\n",
        "import os\n",
        "import numpy as np\n",
        "import matplotlib.pyplot as plt"
      ]
    },
    {
      "cell_type": "code",
      "source": [
        "#download and straction of datasets\n",
        "print(\"Dpwmñpad data zip \")\n",
        "url = 'https://storage.googleapis.com/mledu-datasets/cats_and_dogs_filtered.zip'\n",
        "carpeta_zip = tf.keras.utils.get_file('cats_and_dogs_filterted.zip', origin=url, extract=True)\n",
        "\n"
      ],
      "metadata": {
        "colab": {
          "base_uri": "https://localhost:8080/"
        },
        "id": "oo3GMOs2Zubv",
        "outputId": "3bcd82b5-0964-40af-a613-7a23613f28a6"
      },
      "execution_count": 26,
      "outputs": [
        {
          "output_type": "stream",
          "name": "stdout",
          "text": [
            "Dpwmñpad data zip \n",
            "Downloading data from https://storage.googleapis.com/mledu-datasets/cats_and_dogs_filtered.zip\n",
            "68606236/68606236 [==============================] - 0s 0us/step\n"
          ]
        }
      ]
    },
    {
      "cell_type": "code",
      "source": [
        "#variables to set disk routes\n",
        "\n",
        "carpeta_base = os.path.join(os.path.dirname(carpeta_zip), 'cats_and_dogs_filtered')\n",
        "carpeta_entrenamiento = os.path.join(carpeta_base, 'train')\n",
        "carpeta_validacion = os.path.join(carpeta_base, 'validation')\n",
        "\n",
        "carp_entren_gatos = os.path.join(carpeta_entrenamiento, 'cats')  # imagenes de gatos para pruebas\n",
        "carpeta_entren_perros = os.path.join(carpeta_entrenamiento, 'dogs')  # imagenes de perros para pruebas\n",
        "carpeta_val_gatos = os.path.join(carpeta_validacion, 'cats')  # imagenes de gatos para validacion\n",
        "carpeta_val_perros = os.path.join(carpeta_validacion, 'dogs')  # imagenes de perros para validacion\n"
      ],
      "metadata": {
        "id": "xDPuXrnraR_E"
      },
      "execution_count": 27,
      "outputs": []
    },
    {
      "cell_type": "code",
      "source": [
        "#Save the number of training data for each item\n",
        "num_gatos_entren = len(os.listdir(carp_entren_gatos))\n",
        "num_perros_entren = len(os.listdir(carpeta_entren_perros))\n",
        "num_gatos_val = len(os.listdir(carpeta_val_gatos))\n",
        "num_perros_val = len(os.listdir(carpeta_val_perros))\n",
        "total_entrenamiento = num_gatos_entren + num_perros_entren\n",
        "total_val = num_gatos_val + num_perros_val\n",
        "\n",
        "TAMANO_LOTE = 100\n",
        "TAMANO_IMG = 150\n"
      ],
      "metadata": {
        "id": "BuCyzqlwc9mz"
      },
      "execution_count": 28,
      "outputs": []
    },
    {
      "cell_type": "code",
      "source": [
        "#Increase of data (scale, rotation, etx).\n",
        "\n",
        "print(\"Realizando aumento de datos\")\n",
        "image_gen_entrenamiento = ImageDataGenerator(\n",
        "      rescale=1./255,\n",
        "      rotation_range=40,\n",
        "      width_shift_range=0.2,\n",
        "      height_shift_range=0.2,\n",
        "      shear_range=0.2,\n",
        "      zoom_range=0.2,\n",
        "      horizontal_flip=True,\n",
        "      fill_mode='nearest')\n",
        "\n",
        "#Generacion de datos de entrenamiento FTW\n",
        "data_gen_entrenamiento = image_gen_entrenamiento.flow_from_directory(batch_size=TAMANO_LOTE,\n",
        "                                                     directory=carpeta_entrenamiento,\n",
        "                                                     shuffle=True,\n",
        "                                                     target_size=(TAMANO_IMG,TAMANO_IMG),\n",
        "                                                     class_mode='binary')\n",
        "\n",
        "#Generacion de datos de validacion\n",
        "image_gen_val = ImageDataGenerator(rescale=1./255)\n",
        "\n",
        "data_gen_validacion = image_gen_val.flow_from_directory(batch_size=TAMANO_LOTE,\n",
        "                                                 directory=carpeta_validacion,\n",
        "                                                 target_size=(TAMANO_IMG, TAMANO_IMG),\n",
        "                                                 class_mode='binary')"
      ],
      "metadata": {
        "colab": {
          "base_uri": "https://localhost:8080/"
        },
        "id": "eLk7bcXXdC9a",
        "outputId": "100ef139-dcbf-4584-c55a-c3b20664e138"
      },
      "execution_count": 29,
      "outputs": [
        {
          "output_type": "stream",
          "name": "stdout",
          "text": [
            "Realizando aumento de datos\n",
            "Found 2000 images belonging to 2 classes.\n",
            "Found 1000 images belonging to 2 classes.\n"
          ]
        }
      ]
    },
    {
      "cell_type": "code",
      "source": [
        "#Model\n",
        "modelo = tf.keras.models.Sequential([\n",
        "    tf.keras.layers.Conv2D(32, (3,3), activation='relu', input_shape=(150, 150, 3)),\n",
        "    tf.keras.layers.MaxPooling2D(2, 2),\n",
        "\n",
        "    tf.keras.layers.Conv2D(64, (3,3), activation='relu'),\n",
        "    tf.keras.layers.MaxPooling2D(2,2),\n",
        "\n",
        "    tf.keras.layers.Conv2D(128, (3,3), activation='relu'),\n",
        "    tf.keras.layers.MaxPooling2D(2,2),\n",
        "\n",
        "    tf.keras.layers.Conv2D(128, (3,3), activation='relu'),\n",
        "    tf.keras.layers.MaxPooling2D(2,2),\n",
        "\n",
        "    tf.keras.layers.Dropout(0.5),\n",
        "    tf.keras.layers.Flatten(),\n",
        "    tf.keras.layers.Dense(512, activation='relu'),\n",
        "    tf.keras.layers.Dense(2)\n",
        "])"
      ],
      "metadata": {
        "id": "h7jzf1T4j84I"
      },
      "execution_count": 30,
      "outputs": []
    },
    {
      "cell_type": "code",
      "source": [
        "#Comilation\n",
        "modelo.compile(optimizer='adam',\n",
        "              loss=tf.keras.losses.SparseCategoricalCrossentropy(from_logits=True),\n",
        "              metrics=['accuracy'])\n",
        "\n",
        "#Entrenar la red. Toma un buen rato! Ve por un café ;)\n",
        "#Oye suscribete al canal!\n",
        "print(\"Entrenando modelo...\");\n",
        "epocas=60\n",
        "history = modelo.fit_generator(\n",
        "    data_gen_entrenamiento,\n",
        "    steps_per_epoch=int(np.ceil(total_entrenamiento / float(TAMANO_LOTE))),\n",
        "    epochs=epocas,\n",
        "    validation_data=data_gen_validacion,\n",
        "    validation_steps=int(np.ceil(total_val / float(TAMANO_LOTE)))\n",
        ")"
      ],
      "metadata": {
        "colab": {
          "base_uri": "https://localhost:8080/"
        },
        "id": "o5Xm-W2AkQQY",
        "outputId": "e8fccc3e-68c1-4197-ec88-31b8e092de00"
      },
      "execution_count": 31,
      "outputs": [
        {
          "output_type": "stream",
          "name": "stdout",
          "text": [
            "Entrenando modelo...\n"
          ]
        },
        {
          "output_type": "stream",
          "name": "stderr",
          "text": [
            "<ipython-input-31-2b220432037a>:10: UserWarning: `Model.fit_generator` is deprecated and will be removed in a future version. Please use `Model.fit`, which supports generators.\n",
            "  history = modelo.fit_generator(\n"
          ]
        },
        {
          "output_type": "stream",
          "name": "stdout",
          "text": [
            "Epoch 1/60\n",
            "20/20 [==============================] - 118s 6s/step - loss: 0.7167 - accuracy: 0.5060 - val_loss: 0.6942 - val_accuracy: 0.5000\n",
            "Epoch 2/60\n",
            "20/20 [==============================] - 116s 6s/step - loss: 0.6922 - accuracy: 0.5135 - val_loss: 0.6978 - val_accuracy: 0.5000\n",
            "Epoch 3/60\n",
            "20/20 [==============================] - 108s 5s/step - loss: 0.6894 - accuracy: 0.5365 - val_loss: 0.6871 - val_accuracy: 0.5460\n",
            "Epoch 4/60\n",
            "20/20 [==============================] - 110s 5s/step - loss: 0.6868 - accuracy: 0.5390 - val_loss: 0.6582 - val_accuracy: 0.5720\n",
            "Epoch 5/60\n",
            "20/20 [==============================] - 115s 6s/step - loss: 0.6726 - accuracy: 0.5605 - val_loss: 0.6545 - val_accuracy: 0.5920\n",
            "Epoch 6/60\n",
            "20/20 [==============================] - 115s 6s/step - loss: 0.6468 - accuracy: 0.6055 - val_loss: 0.6246 - val_accuracy: 0.6400\n",
            "Epoch 7/60\n",
            "20/20 [==============================] - 108s 5s/step - loss: 0.6751 - accuracy: 0.5810 - val_loss: 0.6565 - val_accuracy: 0.6380\n",
            "Epoch 8/60\n",
            "20/20 [==============================] - 115s 6s/step - loss: 0.6629 - accuracy: 0.6065 - val_loss: 0.6478 - val_accuracy: 0.6050\n",
            "Epoch 9/60\n",
            "20/20 [==============================] - 116s 6s/step - loss: 0.6685 - accuracy: 0.5815 - val_loss: 0.6334 - val_accuracy: 0.6480\n",
            "Epoch 10/60\n",
            "20/20 [==============================] - 114s 6s/step - loss: 0.6334 - accuracy: 0.6380 - val_loss: 0.5897 - val_accuracy: 0.6720\n",
            "Epoch 11/60\n",
            "20/20 [==============================] - 114s 6s/step - loss: 0.6190 - accuracy: 0.6475 - val_loss: 0.5900 - val_accuracy: 0.6820\n",
            "Epoch 12/60\n",
            "20/20 [==============================] - 116s 6s/step - loss: 0.6070 - accuracy: 0.6615 - val_loss: 0.5708 - val_accuracy: 0.6950\n",
            "Epoch 13/60\n",
            "20/20 [==============================] - 115s 6s/step - loss: 0.5885 - accuracy: 0.6970 - val_loss: 0.5676 - val_accuracy: 0.7050\n",
            "Epoch 14/60\n",
            "20/20 [==============================] - 115s 6s/step - loss: 0.5909 - accuracy: 0.6805 - val_loss: 0.5566 - val_accuracy: 0.7060\n",
            "Epoch 15/60\n",
            "20/20 [==============================] - 116s 6s/step - loss: 0.5738 - accuracy: 0.6965 - val_loss: 0.6035 - val_accuracy: 0.6710\n",
            "Epoch 16/60\n",
            "20/20 [==============================] - 117s 6s/step - loss: 0.6045 - accuracy: 0.6650 - val_loss: 0.5620 - val_accuracy: 0.7000\n",
            "Epoch 17/60\n",
            "20/20 [==============================] - 115s 6s/step - loss: 0.5775 - accuracy: 0.6830 - val_loss: 0.5566 - val_accuracy: 0.7070\n",
            "Epoch 18/60\n",
            "20/20 [==============================] - 107s 5s/step - loss: 0.5655 - accuracy: 0.7075 - val_loss: 0.5353 - val_accuracy: 0.7140\n",
            "Epoch 19/60\n",
            "20/20 [==============================] - 117s 6s/step - loss: 0.5660 - accuracy: 0.7045 - val_loss: 0.5398 - val_accuracy: 0.7200\n",
            "Epoch 20/60\n",
            "20/20 [==============================] - 116s 6s/step - loss: 0.5455 - accuracy: 0.7160 - val_loss: 0.5297 - val_accuracy: 0.7330\n",
            "Epoch 21/60\n",
            "20/20 [==============================] - 116s 6s/step - loss: 0.5534 - accuracy: 0.7165 - val_loss: 0.5291 - val_accuracy: 0.7200\n",
            "Epoch 22/60\n",
            "20/20 [==============================] - 115s 6s/step - loss: 0.5531 - accuracy: 0.7055 - val_loss: 0.5523 - val_accuracy: 0.7110\n",
            "Epoch 23/60\n",
            "20/20 [==============================] - 110s 5s/step - loss: 0.5362 - accuracy: 0.7310 - val_loss: 0.5273 - val_accuracy: 0.7350\n",
            "Epoch 24/60\n",
            "20/20 [==============================] - 114s 6s/step - loss: 0.5539 - accuracy: 0.7265 - val_loss: 0.5650 - val_accuracy: 0.7000\n",
            "Epoch 25/60\n",
            "20/20 [==============================] - 115s 6s/step - loss: 0.5279 - accuracy: 0.7300 - val_loss: 0.5371 - val_accuracy: 0.7260\n",
            "Epoch 26/60\n",
            "20/20 [==============================] - 115s 6s/step - loss: 0.5263 - accuracy: 0.7315 - val_loss: 0.5321 - val_accuracy: 0.7240\n",
            "Epoch 27/60\n",
            "20/20 [==============================] - 114s 6s/step - loss: 0.5373 - accuracy: 0.7310 - val_loss: 0.5727 - val_accuracy: 0.6740\n",
            "Epoch 28/60\n",
            "20/20 [==============================] - 114s 6s/step - loss: 0.5249 - accuracy: 0.7410 - val_loss: 0.5252 - val_accuracy: 0.7480\n",
            "Epoch 29/60\n",
            "20/20 [==============================] - 109s 5s/step - loss: 0.5367 - accuracy: 0.7195 - val_loss: 0.5088 - val_accuracy: 0.7500\n",
            "Epoch 30/60\n",
            "20/20 [==============================] - 115s 6s/step - loss: 0.5065 - accuracy: 0.7440 - val_loss: 0.4965 - val_accuracy: 0.7540\n",
            "Epoch 31/60\n",
            "20/20 [==============================] - 115s 6s/step - loss: 0.5191 - accuracy: 0.7390 - val_loss: 0.4918 - val_accuracy: 0.7600\n",
            "Epoch 32/60\n",
            "20/20 [==============================] - 116s 6s/step - loss: 0.5034 - accuracy: 0.7555 - val_loss: 0.5241 - val_accuracy: 0.7310\n",
            "Epoch 33/60\n",
            "20/20 [==============================] - 114s 6s/step - loss: 0.5062 - accuracy: 0.7445 - val_loss: 0.4917 - val_accuracy: 0.7460\n",
            "Epoch 34/60\n",
            "20/20 [==============================] - 116s 6s/step - loss: 0.4792 - accuracy: 0.7655 - val_loss: 0.5001 - val_accuracy: 0.7620\n",
            "Epoch 35/60\n",
            "20/20 [==============================] - 117s 6s/step - loss: 0.4748 - accuracy: 0.7680 - val_loss: 0.4758 - val_accuracy: 0.7710\n",
            "Epoch 36/60\n",
            "20/20 [==============================] - 115s 6s/step - loss: 0.4986 - accuracy: 0.7545 - val_loss: 0.4844 - val_accuracy: 0.7680\n",
            "Epoch 37/60\n",
            "20/20 [==============================] - 114s 6s/step - loss: 0.5042 - accuracy: 0.7460 - val_loss: 0.5149 - val_accuracy: 0.7510\n",
            "Epoch 38/60\n",
            "20/20 [==============================] - 117s 6s/step - loss: 0.4908 - accuracy: 0.7595 - val_loss: 0.4718 - val_accuracy: 0.7690\n",
            "Epoch 39/60\n",
            "20/20 [==============================] - 114s 6s/step - loss: 0.4811 - accuracy: 0.7690 - val_loss: 0.4772 - val_accuracy: 0.7620\n",
            "Epoch 40/60\n",
            "20/20 [==============================] - 116s 6s/step - loss: 0.4905 - accuracy: 0.7555 - val_loss: 0.4771 - val_accuracy: 0.7680\n",
            "Epoch 41/60\n",
            "20/20 [==============================] - 115s 6s/step - loss: 0.4725 - accuracy: 0.7810 - val_loss: 0.4870 - val_accuracy: 0.7650\n",
            "Epoch 42/60\n",
            "20/20 [==============================] - 114s 6s/step - loss: 0.4521 - accuracy: 0.7940 - val_loss: 0.5049 - val_accuracy: 0.7600\n",
            "Epoch 43/60\n",
            "20/20 [==============================] - 115s 6s/step - loss: 0.4833 - accuracy: 0.7565 - val_loss: 0.5480 - val_accuracy: 0.7430\n",
            "Epoch 44/60\n",
            "20/20 [==============================] - 114s 6s/step - loss: 0.4680 - accuracy: 0.7730 - val_loss: 0.4581 - val_accuracy: 0.7870\n",
            "Epoch 45/60\n",
            "20/20 [==============================] - 115s 6s/step - loss: 0.4555 - accuracy: 0.7825 - val_loss: 0.5047 - val_accuracy: 0.7420\n",
            "Epoch 46/60\n",
            "20/20 [==============================] - 115s 6s/step - loss: 0.4483 - accuracy: 0.7845 - val_loss: 0.4629 - val_accuracy: 0.7850\n",
            "Epoch 47/60\n",
            "20/20 [==============================] - 114s 6s/step - loss: 0.4550 - accuracy: 0.7710 - val_loss: 0.4645 - val_accuracy: 0.7920\n",
            "Epoch 48/60\n",
            "20/20 [==============================] - 116s 6s/step - loss: 0.4386 - accuracy: 0.7885 - val_loss: 0.4768 - val_accuracy: 0.7870\n",
            "Epoch 49/60\n",
            "20/20 [==============================] - 114s 6s/step - loss: 0.4505 - accuracy: 0.7875 - val_loss: 0.4793 - val_accuracy: 0.7790\n",
            "Epoch 50/60\n",
            "20/20 [==============================] - 107s 5s/step - loss: 0.4513 - accuracy: 0.7975 - val_loss: 0.4350 - val_accuracy: 0.7950\n",
            "Epoch 51/60\n",
            "20/20 [==============================] - 116s 6s/step - loss: 0.4164 - accuracy: 0.8105 - val_loss: 0.4625 - val_accuracy: 0.7700\n",
            "Epoch 52/60\n",
            "20/20 [==============================] - 115s 6s/step - loss: 0.4329 - accuracy: 0.7945 - val_loss: 0.4354 - val_accuracy: 0.8010\n",
            "Epoch 53/60\n",
            "20/20 [==============================] - 116s 6s/step - loss: 0.4273 - accuracy: 0.8035 - val_loss: 0.4277 - val_accuracy: 0.8100\n",
            "Epoch 54/60\n",
            "20/20 [==============================] - 107s 5s/step - loss: 0.4248 - accuracy: 0.7925 - val_loss: 0.4416 - val_accuracy: 0.8110\n",
            "Epoch 55/60\n",
            "20/20 [==============================] - 114s 6s/step - loss: 0.3928 - accuracy: 0.8160 - val_loss: 0.4466 - val_accuracy: 0.7880\n",
            "Epoch 56/60\n",
            "20/20 [==============================] - 111s 5s/step - loss: 0.3865 - accuracy: 0.8210 - val_loss: 0.4325 - val_accuracy: 0.7990\n",
            "Epoch 57/60\n",
            "20/20 [==============================] - 116s 6s/step - loss: 0.4481 - accuracy: 0.7845 - val_loss: 0.4793 - val_accuracy: 0.7730\n",
            "Epoch 58/60\n",
            "20/20 [==============================] - 117s 6s/step - loss: 0.4441 - accuracy: 0.7925 - val_loss: 0.4215 - val_accuracy: 0.8080\n",
            "Epoch 59/60\n",
            "20/20 [==============================] - 116s 6s/step - loss: 0.4195 - accuracy: 0.8100 - val_loss: 0.4015 - val_accuracy: 0.8240\n",
            "Epoch 60/60\n",
            "20/20 [==============================] - 116s 6s/step - loss: 0.3950 - accuracy: 0.8260 - val_loss: 0.4107 - val_accuracy: 0.8130\n"
          ]
        }
      ]
    },
    {
      "cell_type": "code",
      "source": [
        "#export model in h5 format\n",
        "modelo.save(\"perros_gatos.h5\")"
      ],
      "metadata": {
        "colab": {
          "base_uri": "https://localhost:8080/"
        },
        "id": "W9mzxxvUJfNY",
        "outputId": "f10f4a40-7ea8-4cfd-c5a3-c916b4fd6ed7"
      },
      "execution_count": 32,
      "outputs": [
        {
          "output_type": "stream",
          "name": "stderr",
          "text": [
            "/usr/local/lib/python3.10/dist-packages/keras/src/engine/training.py:3079: UserWarning: You are saving your model as an HDF5 file via `model.save()`. This file format is considered legacy. We recommend using instead the native Keras format, e.g. `model.save('my_model.keras')`.\n",
            "  saving_api.save_model(\n"
          ]
        }
      ]
    },
    {
      "cell_type": "code",
      "source": [
        "!pip install tensorflowjs\n"
      ],
      "metadata": {
        "colab": {
          "base_uri": "https://localhost:8080/"
        },
        "id": "aDOKEKIZJw53",
        "outputId": "ecd6b773-f932-4722-bcc5-4b25002e558d"
      },
      "execution_count": 34,
      "outputs": [
        {
          "output_type": "stream",
          "name": "stdout",
          "text": [
            "Collecting tensorflowjs\n",
            "  Downloading tensorflowjs-4.12.0-py3-none-any.whl (89 kB)\n",
            "\u001b[?25l     \u001b[90m━━━━━━━━━━━━━━━━━━━━━━━━━━━━━━━━━━━━━━━━\u001b[0m \u001b[32m0.0/89.2 kB\u001b[0m \u001b[31m?\u001b[0m eta \u001b[36m-:--:--\u001b[0m\r\u001b[2K     \u001b[90m━━━━━━━━━━━━━━━━━━━━━━━━━━━━━━━━━━━━━━━━\u001b[0m \u001b[32m89.2/89.2 kB\u001b[0m \u001b[31m2.6 MB/s\u001b[0m eta \u001b[36m0:00:00\u001b[0m\n",
            "\u001b[?25hRequirement already satisfied: flax>=0.7.2 in /usr/local/lib/python3.10/dist-packages (from tensorflowjs) (0.7.4)\n",
            "Requirement already satisfied: importlib_resources>=5.9.0 in /usr/local/lib/python3.10/dist-packages (from tensorflowjs) (6.1.0)\n",
            "Requirement already satisfied: jax>=0.4.13 in /usr/local/lib/python3.10/dist-packages (from tensorflowjs) (0.4.16)\n",
            "Requirement already satisfied: jaxlib>=0.4.13 in /usr/local/lib/python3.10/dist-packages (from tensorflowjs) (0.4.16+cuda11.cudnn86)\n",
            "Requirement already satisfied: tensorflow<3,>=2.13.0 in /usr/local/lib/python3.10/dist-packages (from tensorflowjs) (2.14.0)\n",
            "Collecting tensorflow-decision-forests>=1.5.0 (from tensorflowjs)\n",
            "  Downloading tensorflow_decision_forests-1.7.0-cp310-cp310-manylinux_2_17_x86_64.manylinux2014_x86_64.whl (16.8 MB)\n",
            "\u001b[2K     \u001b[90m━━━━━━━━━━━━━━━━━━━━━━━━━━━━━━━━━━━━━━━━\u001b[0m \u001b[32m16.8/16.8 MB\u001b[0m \u001b[31m42.7 MB/s\u001b[0m eta \u001b[36m0:00:00\u001b[0m\n",
            "\u001b[?25hRequirement already satisfied: six<2,>=1.16.0 in /usr/local/lib/python3.10/dist-packages (from tensorflowjs) (1.16.0)\n",
            "Requirement already satisfied: tensorflow-hub>=0.14.0 in /usr/local/lib/python3.10/dist-packages (from tensorflowjs) (0.15.0)\n",
            "Requirement already satisfied: packaging~=23.1 in /usr/local/lib/python3.10/dist-packages (from tensorflowjs) (23.2)\n",
            "Requirement already satisfied: numpy>=1.12 in /usr/local/lib/python3.10/dist-packages (from flax>=0.7.2->tensorflowjs) (1.23.5)\n",
            "Requirement already satisfied: msgpack in /usr/local/lib/python3.10/dist-packages (from flax>=0.7.2->tensorflowjs) (1.0.7)\n",
            "Requirement already satisfied: optax in /usr/local/lib/python3.10/dist-packages (from flax>=0.7.2->tensorflowjs) (0.1.7)\n",
            "Requirement already satisfied: orbax-checkpoint in /usr/local/lib/python3.10/dist-packages (from flax>=0.7.2->tensorflowjs) (0.4.1)\n",
            "Requirement already satisfied: tensorstore in /usr/local/lib/python3.10/dist-packages (from flax>=0.7.2->tensorflowjs) (0.1.45)\n",
            "Requirement already satisfied: rich>=11.1 in /usr/local/lib/python3.10/dist-packages (from flax>=0.7.2->tensorflowjs) (13.6.0)\n",
            "Requirement already satisfied: typing-extensions>=4.2 in /usr/local/lib/python3.10/dist-packages (from flax>=0.7.2->tensorflowjs) (4.5.0)\n",
            "Requirement already satisfied: PyYAML>=5.4.1 in /usr/local/lib/python3.10/dist-packages (from flax>=0.7.2->tensorflowjs) (6.0.1)\n",
            "Requirement already satisfied: ml-dtypes>=0.2.0 in /usr/local/lib/python3.10/dist-packages (from jax>=0.4.13->tensorflowjs) (0.2.0)\n",
            "Requirement already satisfied: opt-einsum in /usr/local/lib/python3.10/dist-packages (from jax>=0.4.13->tensorflowjs) (3.3.0)\n",
            "Requirement already satisfied: scipy>=1.7 in /usr/local/lib/python3.10/dist-packages (from jax>=0.4.13->tensorflowjs) (1.11.3)\n",
            "Requirement already satisfied: absl-py>=1.0.0 in /usr/local/lib/python3.10/dist-packages (from tensorflow<3,>=2.13.0->tensorflowjs) (1.4.0)\n",
            "Requirement already satisfied: astunparse>=1.6.0 in /usr/local/lib/python3.10/dist-packages (from tensorflow<3,>=2.13.0->tensorflowjs) (1.6.3)\n",
            "Requirement already satisfied: flatbuffers>=23.5.26 in /usr/local/lib/python3.10/dist-packages (from tensorflow<3,>=2.13.0->tensorflowjs) (23.5.26)\n",
            "Requirement already satisfied: gast!=0.5.0,!=0.5.1,!=0.5.2,>=0.2.1 in /usr/local/lib/python3.10/dist-packages (from tensorflow<3,>=2.13.0->tensorflowjs) (0.5.4)\n",
            "Requirement already satisfied: google-pasta>=0.1.1 in /usr/local/lib/python3.10/dist-packages (from tensorflow<3,>=2.13.0->tensorflowjs) (0.2.0)\n",
            "Requirement already satisfied: h5py>=2.9.0 in /usr/local/lib/python3.10/dist-packages (from tensorflow<3,>=2.13.0->tensorflowjs) (3.9.0)\n",
            "Requirement already satisfied: libclang>=13.0.0 in /usr/local/lib/python3.10/dist-packages (from tensorflow<3,>=2.13.0->tensorflowjs) (16.0.6)\n",
            "Requirement already satisfied: protobuf!=4.21.0,!=4.21.1,!=4.21.2,!=4.21.3,!=4.21.4,!=4.21.5,<5.0.0dev,>=3.20.3 in /usr/local/lib/python3.10/dist-packages (from tensorflow<3,>=2.13.0->tensorflowjs) (3.20.3)\n",
            "Requirement already satisfied: setuptools in /usr/local/lib/python3.10/dist-packages (from tensorflow<3,>=2.13.0->tensorflowjs) (67.7.2)\n",
            "Requirement already satisfied: termcolor>=1.1.0 in /usr/local/lib/python3.10/dist-packages (from tensorflow<3,>=2.13.0->tensorflowjs) (2.3.0)\n",
            "Requirement already satisfied: wrapt<1.15,>=1.11.0 in /usr/local/lib/python3.10/dist-packages (from tensorflow<3,>=2.13.0->tensorflowjs) (1.14.1)\n",
            "Requirement already satisfied: tensorflow-io-gcs-filesystem>=0.23.1 in /usr/local/lib/python3.10/dist-packages (from tensorflow<3,>=2.13.0->tensorflowjs) (0.34.0)\n",
            "Requirement already satisfied: grpcio<2.0,>=1.24.3 in /usr/local/lib/python3.10/dist-packages (from tensorflow<3,>=2.13.0->tensorflowjs) (1.59.0)\n",
            "Requirement already satisfied: tensorboard<2.15,>=2.14 in /usr/local/lib/python3.10/dist-packages (from tensorflow<3,>=2.13.0->tensorflowjs) (2.14.1)\n",
            "Requirement already satisfied: tensorflow-estimator<2.15,>=2.14.0 in /usr/local/lib/python3.10/dist-packages (from tensorflow<3,>=2.13.0->tensorflowjs) (2.14.0)\n",
            "Requirement already satisfied: keras<2.15,>=2.14.0 in /usr/local/lib/python3.10/dist-packages (from tensorflow<3,>=2.13.0->tensorflowjs) (2.14.0)\n",
            "Requirement already satisfied: pandas in /usr/local/lib/python3.10/dist-packages (from tensorflow-decision-forests>=1.5.0->tensorflowjs) (1.5.3)\n",
            "Requirement already satisfied: wheel in /usr/local/lib/python3.10/dist-packages (from tensorflow-decision-forests>=1.5.0->tensorflowjs) (0.41.2)\n",
            "Collecting wurlitzer (from tensorflow-decision-forests>=1.5.0->tensorflowjs)\n",
            "  Downloading wurlitzer-3.0.3-py3-none-any.whl (7.3 kB)\n",
            "Requirement already satisfied: markdown-it-py>=2.2.0 in /usr/local/lib/python3.10/dist-packages (from rich>=11.1->flax>=0.7.2->tensorflowjs) (3.0.0)\n",
            "Requirement already satisfied: pygments<3.0.0,>=2.13.0 in /usr/local/lib/python3.10/dist-packages (from rich>=11.1->flax>=0.7.2->tensorflowjs) (2.16.1)\n",
            "Requirement already satisfied: google-auth<3,>=1.6.3 in /usr/local/lib/python3.10/dist-packages (from tensorboard<2.15,>=2.14->tensorflow<3,>=2.13.0->tensorflowjs) (2.17.3)\n",
            "Requirement already satisfied: google-auth-oauthlib<1.1,>=0.5 in /usr/local/lib/python3.10/dist-packages (from tensorboard<2.15,>=2.14->tensorflow<3,>=2.13.0->tensorflowjs) (1.0.0)\n",
            "Requirement already satisfied: markdown>=2.6.8 in /usr/local/lib/python3.10/dist-packages (from tensorboard<2.15,>=2.14->tensorflow<3,>=2.13.0->tensorflowjs) (3.5)\n",
            "Requirement already satisfied: requests<3,>=2.21.0 in /usr/local/lib/python3.10/dist-packages (from tensorboard<2.15,>=2.14->tensorflow<3,>=2.13.0->tensorflowjs) (2.31.0)\n",
            "Requirement already satisfied: tensorboard-data-server<0.8.0,>=0.7.0 in /usr/local/lib/python3.10/dist-packages (from tensorboard<2.15,>=2.14->tensorflow<3,>=2.13.0->tensorflowjs) (0.7.2)\n",
            "Requirement already satisfied: werkzeug>=1.0.1 in /usr/local/lib/python3.10/dist-packages (from tensorboard<2.15,>=2.14->tensorflow<3,>=2.13.0->tensorflowjs) (3.0.1)\n",
            "Requirement already satisfied: chex>=0.1.5 in /usr/local/lib/python3.10/dist-packages (from optax->flax>=0.7.2->tensorflowjs) (0.1.7)\n",
            "Requirement already satisfied: etils[epath,epy] in /usr/local/lib/python3.10/dist-packages (from orbax-checkpoint->flax>=0.7.2->tensorflowjs) (1.5.2)\n",
            "Requirement already satisfied: nest_asyncio in /usr/local/lib/python3.10/dist-packages (from orbax-checkpoint->flax>=0.7.2->tensorflowjs) (1.5.8)\n",
            "Requirement already satisfied: python-dateutil>=2.8.1 in /usr/local/lib/python3.10/dist-packages (from pandas->tensorflow-decision-forests>=1.5.0->tensorflowjs) (2.8.2)\n",
            "Requirement already satisfied: pytz>=2020.1 in /usr/local/lib/python3.10/dist-packages (from pandas->tensorflow-decision-forests>=1.5.0->tensorflowjs) (2023.3.post1)\n",
            "Requirement already satisfied: dm-tree>=0.1.5 in /usr/local/lib/python3.10/dist-packages (from chex>=0.1.5->optax->flax>=0.7.2->tensorflowjs) (0.1.8)\n",
            "Requirement already satisfied: toolz>=0.9.0 in /usr/local/lib/python3.10/dist-packages (from chex>=0.1.5->optax->flax>=0.7.2->tensorflowjs) (0.12.0)\n",
            "Requirement already satisfied: cachetools<6.0,>=2.0.0 in /usr/local/lib/python3.10/dist-packages (from google-auth<3,>=1.6.3->tensorboard<2.15,>=2.14->tensorflow<3,>=2.13.0->tensorflowjs) (5.3.2)\n",
            "Requirement already satisfied: pyasn1-modules>=0.2.1 in /usr/local/lib/python3.10/dist-packages (from google-auth<3,>=1.6.3->tensorboard<2.15,>=2.14->tensorflow<3,>=2.13.0->tensorflowjs) (0.3.0)\n",
            "Requirement already satisfied: rsa<5,>=3.1.4 in /usr/local/lib/python3.10/dist-packages (from google-auth<3,>=1.6.3->tensorboard<2.15,>=2.14->tensorflow<3,>=2.13.0->tensorflowjs) (4.9)\n",
            "Requirement already satisfied: requests-oauthlib>=0.7.0 in /usr/local/lib/python3.10/dist-packages (from google-auth-oauthlib<1.1,>=0.5->tensorboard<2.15,>=2.14->tensorflow<3,>=2.13.0->tensorflowjs) (1.3.1)\n",
            "Requirement already satisfied: mdurl~=0.1 in /usr/local/lib/python3.10/dist-packages (from markdown-it-py>=2.2.0->rich>=11.1->flax>=0.7.2->tensorflowjs) (0.1.2)\n",
            "Requirement already satisfied: charset-normalizer<4,>=2 in /usr/local/lib/python3.10/dist-packages (from requests<3,>=2.21.0->tensorboard<2.15,>=2.14->tensorflow<3,>=2.13.0->tensorflowjs) (3.3.1)\n",
            "Requirement already satisfied: idna<4,>=2.5 in /usr/local/lib/python3.10/dist-packages (from requests<3,>=2.21.0->tensorboard<2.15,>=2.14->tensorflow<3,>=2.13.0->tensorflowjs) (3.4)\n",
            "Requirement already satisfied: urllib3<3,>=1.21.1 in /usr/local/lib/python3.10/dist-packages (from requests<3,>=2.21.0->tensorboard<2.15,>=2.14->tensorflow<3,>=2.13.0->tensorflowjs) (2.0.7)\n",
            "Requirement already satisfied: certifi>=2017.4.17 in /usr/local/lib/python3.10/dist-packages (from requests<3,>=2.21.0->tensorboard<2.15,>=2.14->tensorflow<3,>=2.13.0->tensorflowjs) (2023.7.22)\n",
            "Requirement already satisfied: MarkupSafe>=2.1.1 in /usr/local/lib/python3.10/dist-packages (from werkzeug>=1.0.1->tensorboard<2.15,>=2.14->tensorflow<3,>=2.13.0->tensorflowjs) (2.1.3)\n",
            "Requirement already satisfied: fsspec in /usr/local/lib/python3.10/dist-packages (from etils[epath,epy]->orbax-checkpoint->flax>=0.7.2->tensorflowjs) (2023.6.0)\n",
            "Requirement already satisfied: zipp in /usr/local/lib/python3.10/dist-packages (from etils[epath,epy]->orbax-checkpoint->flax>=0.7.2->tensorflowjs) (3.17.0)\n",
            "Requirement already satisfied: pyasn1<0.6.0,>=0.4.6 in /usr/local/lib/python3.10/dist-packages (from pyasn1-modules>=0.2.1->google-auth<3,>=1.6.3->tensorboard<2.15,>=2.14->tensorflow<3,>=2.13.0->tensorflowjs) (0.5.0)\n",
            "Requirement already satisfied: oauthlib>=3.0.0 in /usr/local/lib/python3.10/dist-packages (from requests-oauthlib>=0.7.0->google-auth-oauthlib<1.1,>=0.5->tensorboard<2.15,>=2.14->tensorflow<3,>=2.13.0->tensorflowjs) (3.2.2)\n",
            "Installing collected packages: wurlitzer, tensorflow-decision-forests, tensorflowjs\n",
            "Successfully installed tensorflow-decision-forests-1.7.0 tensorflowjs-4.12.0 wurlitzer-3.0.3\n"
          ]
        }
      ]
    },
    {
      "cell_type": "code",
      "source": [
        "!tensorflowjs_converter --input_format keras perros_gatos.h5"
      ],
      "metadata": {
        "colab": {
          "base_uri": "https://localhost:8080/"
        },
        "id": "dAZ-lFKnKGt3",
        "outputId": "78e12858-00d8-4119-bb23-207b76084996"
      },
      "execution_count": 35,
      "outputs": [
        {
          "output_type": "stream",
          "name": "stdout",
          "text": [
            "2023-11-06 19:42:37.407501: E tensorflow/compiler/xla/stream_executor/cuda/cuda_dnn.cc:9342] Unable to register cuDNN factory: Attempting to register factory for plugin cuDNN when one has already been registered\n",
            "2023-11-06 19:42:37.407585: E tensorflow/compiler/xla/stream_executor/cuda/cuda_fft.cc:609] Unable to register cuFFT factory: Attempting to register factory for plugin cuFFT when one has already been registered\n",
            "2023-11-06 19:42:37.407671: E tensorflow/compiler/xla/stream_executor/cuda/cuda_blas.cc:1518] Unable to register cuBLAS factory: Attempting to register factory for plugin cuBLAS when one has already been registered\n",
            "2023-11-06 19:42:39.508700: W tensorflow/compiler/tf2tensorrt/utils/py_utils.cc:38] TF-TRT Warning: Could not find TensorRT\n",
            "Traceback (most recent call last):\n",
            "  File \"/usr/local/bin/tensorflowjs_converter\", line 8, in <module>\n",
            "    sys.exit(pip_main())\n",
            "  File \"/usr/local/lib/python3.10/dist-packages/tensorflowjs/converters/converter.py\", line 958, in pip_main\n",
            "    main([' '.join(sys.argv[1:])])\n",
            "  File \"/usr/local/lib/python3.10/dist-packages/tensorflowjs/converters/converter.py\", line 962, in main\n",
            "    convert(argv[0].split(' '))\n",
            "  File \"/usr/local/lib/python3.10/dist-packages/tensorflowjs/converters/converter.py\", line 896, in convert\n",
            "    raise ValueError(\n",
            "ValueError: Missing output_path argument. For usage, use the --help flag.\n"
          ]
        }
      ]
    },
    {
      "cell_type": "code",
      "source": [
        "!mkdir  out_folder"
      ],
      "metadata": {
        "id": "7Px-Gjm3KPt3"
      },
      "execution_count": 36,
      "outputs": []
    },
    {
      "cell_type": "code",
      "source": [
        "!tensorflowjs_converter --input_format keras perros_gatos.h5 out_folder/"
      ],
      "metadata": {
        "colab": {
          "base_uri": "https://localhost:8080/"
        },
        "id": "7tzzUJ1LKZ2h",
        "outputId": "2a263516-44aa-419c-a041-5017468206ab"
      },
      "execution_count": 37,
      "outputs": [
        {
          "output_type": "stream",
          "name": "stdout",
          "text": [
            "2023-11-06 19:44:24.252785: E tensorflow/compiler/xla/stream_executor/cuda/cuda_dnn.cc:9342] Unable to register cuDNN factory: Attempting to register factory for plugin cuDNN when one has already been registered\n",
            "2023-11-06 19:44:24.252847: E tensorflow/compiler/xla/stream_executor/cuda/cuda_fft.cc:609] Unable to register cuFFT factory: Attempting to register factory for plugin cuFFT when one has already been registered\n",
            "2023-11-06 19:44:24.252886: E tensorflow/compiler/xla/stream_executor/cuda/cuda_blas.cc:1518] Unable to register cuBLAS factory: Attempting to register factory for plugin cuBLAS when one has already been registered\n",
            "2023-11-06 19:44:26.079456: W tensorflow/compiler/tf2tensorrt/utils/py_utils.cc:38] TF-TRT Warning: Could not find TensorRT\n"
          ]
        }
      ]
    }
  ]
}